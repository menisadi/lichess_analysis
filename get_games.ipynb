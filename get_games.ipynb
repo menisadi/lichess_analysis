{
 "cells": [
  {
   "cell_type": "code",
   "execution_count": 1,
   "id": "f09a78f9-d4a3-401d-9e69-f7650c883738",
   "metadata": {
    "execution": {
     "iopub.execute_input": "2023-07-03T16:08:58.961996Z",
     "iopub.status.busy": "2023-07-03T16:08:58.961394Z",
     "iopub.status.idle": "2023-07-03T16:09:07.650155Z",
     "shell.execute_reply": "2023-07-03T16:09:07.649845Z",
     "shell.execute_reply.started": "2023-07-03T16:08:58.961960Z"
    }
   },
   "outputs": [],
   "source": [
    "import numpy as np\n",
    "import pandas as pd\n",
    "import seaborn as sns\n",
    "import matplotlib.pyplot as plt\n",
    "sns.set(rc={'figure.figsize':(12,5)})\n",
    "%load_ext autoreload\n",
    "%autoreload 2"
   ]
  },
  {
   "cell_type": "code",
   "execution_count": 162,
   "id": "696c7c08-de7c-4773-942a-0196dfbefeb2",
   "metadata": {
    "execution": {
     "iopub.execute_input": "2023-07-03T17:11:50.323354Z",
     "iopub.status.busy": "2023-07-03T17:11:50.322372Z",
     "iopub.status.idle": "2023-07-03T17:11:50.366185Z",
     "shell.execute_reply": "2023-07-03T17:11:50.365601Z",
     "shell.execute_reply.started": "2023-07-03T17:11:50.323289Z"
    }
   },
   "outputs": [],
   "source": [
    "from tqdm import tqdm"
   ]
  },
  {
   "cell_type": "code",
   "execution_count": 2,
   "id": "e6e7fc61-7e40-4604-97d9-88500211b499",
   "metadata": {
    "execution": {
     "iopub.execute_input": "2023-07-03T16:09:13.221174Z",
     "iopub.status.busy": "2023-07-03T16:09:13.218958Z",
     "iopub.status.idle": "2023-07-03T16:09:13.316012Z",
     "shell.execute_reply": "2023-07-03T16:09:13.315648Z",
     "shell.execute_reply.started": "2023-07-03T16:09:13.221085Z"
    }
   },
   "outputs": [],
   "source": [
    "import requests"
   ]
  },
  {
   "cell_type": "code",
   "execution_count": 38,
   "id": "a4b79983-8dbb-4e4a-bc0e-408bd7185c4e",
   "metadata": {
    "execution": {
     "iopub.execute_input": "2023-07-03T16:26:10.283397Z",
     "iopub.status.busy": "2023-07-03T16:26:10.282821Z",
     "iopub.status.idle": "2023-07-03T16:26:10.327444Z",
     "shell.execute_reply": "2023-07-03T16:26:10.326894Z",
     "shell.execute_reply.started": "2023-07-03T16:26:10.283360Z"
    }
   },
   "outputs": [],
   "source": [
    "with open('toekn.txt', 'r') as f:\n",
    "    API_TOKEN = f.readlines()[0][:-1]"
   ]
  },
  {
   "cell_type": "code",
   "execution_count": 40,
   "id": "81fd2dec-6bf7-4112-885f-743ac7ecd5cd",
   "metadata": {
    "execution": {
     "iopub.execute_input": "2023-07-03T16:26:16.823229Z",
     "iopub.status.busy": "2023-07-03T16:26:16.822331Z",
     "iopub.status.idle": "2023-07-03T16:26:16.856865Z",
     "shell.execute_reply": "2023-07-03T16:26:16.856329Z",
     "shell.execute_reply.started": "2023-07-03T16:26:16.823197Z"
    }
   },
   "outputs": [],
   "source": [
    "import berserk\n",
    "\n",
    "session = berserk.TokenSession(API_TOKEN)\n",
    "client = berserk.Client(session=session)"
   ]
  },
  {
   "cell_type": "code",
   "execution_count": 41,
   "id": "38ebe7b2-612e-456e-b2aa-fbe17920158c",
   "metadata": {
    "execution": {
     "iopub.execute_input": "2023-07-03T16:26:18.416378Z",
     "iopub.status.busy": "2023-07-03T16:26:18.415786Z",
     "iopub.status.idle": "2023-07-03T16:26:18.450673Z",
     "shell.execute_reply": "2023-07-03T16:26:18.450003Z",
     "shell.execute_reply.started": "2023-07-03T16:26:18.416345Z"
    }
   },
   "outputs": [
    {
     "data": {
      "text/plain": [
       "'blitz'"
      ]
     },
     "execution_count": 41,
     "metadata": {},
     "output_type": "execute_result"
    }
   ],
   "source": [
    "berserk.enums.PerfType.BLITZ"
   ]
  },
  {
   "cell_type": "code",
   "execution_count": 98,
   "id": "4594ab11-d3d2-406e-8d52-ba352c6de5c5",
   "metadata": {
    "execution": {
     "iopub.execute_input": "2023-07-03T16:41:37.765098Z",
     "iopub.status.busy": "2023-07-03T16:41:37.763960Z",
     "iopub.status.idle": "2023-07-03T16:41:37.834047Z",
     "shell.execute_reply": "2023-07-03T16:41:37.833569Z",
     "shell.execute_reply.started": "2023-07-03T16:41:37.765049Z"
    }
   },
   "outputs": [],
   "source": [
    "def color2bool(color):\n",
    "    if color == 'white':\n",
    "        return True\n",
    "    else:\n",
    "        return False\n",
    "\n",
    "def bool2color(b):\n",
    "    if b:\n",
    "        return 'white'\n",
    "    else:\n",
    "        return 'black'\n",
    "\n",
    "def flip_color(color):\n",
    "    if color == 'white':\n",
    "        return 'black'\n",
    "    else:\n",
    "        return 'white'"
   ]
  },
  {
   "cell_type": "code",
   "execution_count": 85,
   "id": "d9c04018-ea1d-4ad1-838a-a13bfff39aa9",
   "metadata": {
    "execution": {
     "iopub.execute_input": "2023-07-03T16:39:15.375010Z",
     "iopub.status.busy": "2023-07-03T16:39:15.374123Z",
     "iopub.status.idle": "2023-07-03T16:39:15.409418Z",
     "shell.execute_reply": "2023-07-03T16:39:15.408753Z",
     "shell.execute_reply.started": "2023-07-03T16:39:15.374940Z"
    }
   },
   "outputs": [],
   "source": [
    "def my_color(playes_data):\n",
    "    if playes_data['white']['user']['name'] == 'menisadi':\n",
    "        return 'white'\n",
    "    else:\n",
    "        return 'black'"
   ]
  },
  {
   "cell_type": "code",
   "execution_count": 118,
   "id": "508dc675-1ed4-4568-a7f8-29ef346cfbbc",
   "metadata": {
    "execution": {
     "iopub.execute_input": "2023-07-03T16:47:55.169313Z",
     "iopub.status.busy": "2023-07-03T16:47:55.168800Z",
     "iopub.status.idle": "2023-07-03T16:47:55.212262Z",
     "shell.execute_reply": "2023-07-03T16:47:55.211740Z",
     "shell.execute_reply.started": "2023-07-03T16:47:55.169280Z"
    }
   },
   "outputs": [],
   "source": [
    "def opponent_name(playes_data):\n",
    "    return playes_data[flip_color(my_color(playes_data))]['user']['name']"
   ]
  },
  {
   "cell_type": "code",
   "execution_count": 158,
   "id": "4ffe6008-7651-4aeb-b7c8-b348c352e7a6",
   "metadata": {
    "execution": {
     "iopub.execute_input": "2023-07-03T17:07:53.506395Z",
     "iopub.status.busy": "2023-07-03T17:07:53.505219Z",
     "iopub.status.idle": "2023-07-03T17:07:53.559569Z",
     "shell.execute_reply": "2023-07-03T17:07:53.559187Z",
     "shell.execute_reply.started": "2023-07-03T17:07:53.506355Z"
    }
   },
   "outputs": [],
   "source": [
    "    games = client.games.export_by_player(username='menisadi', perf_type='blitz', \n",
    "                                          rated=True, analysed=True, opening=True, \n",
    "                                          evals=True)"
   ]
  },
  {
   "cell_type": "markdown",
   "id": "7d130c35-0912-4079-bc6c-c2bb2e51d940",
   "metadata": {
    "jp-MarkdownHeadingCollapsed": true
   },
   "source": [
    "## One game"
   ]
  },
  {
   "cell_type": "code",
   "execution_count": 57,
   "id": "9ea5253b-67cd-4f66-b02e-4f8ba95338d9",
   "metadata": {
    "execution": {
     "iopub.execute_input": "2023-07-03T16:31:07.965556Z",
     "iopub.status.busy": "2023-07-03T16:31:07.964789Z",
     "iopub.status.idle": "2023-07-03T16:31:52.306908Z",
     "shell.execute_reply": "2023-07-03T16:31:52.305949Z",
     "shell.execute_reply.started": "2023-07-03T16:31:07.965500Z"
    }
   },
   "outputs": [],
   "source": [
    "first_game = next(games)"
   ]
  },
  {
   "cell_type": "code",
   "execution_count": 155,
   "id": "e9f5cc64-02f1-4570-b771-8673c2aa4dbe",
   "metadata": {
    "execution": {
     "iopub.execute_input": "2023-07-03T16:59:55.454875Z",
     "iopub.status.busy": "2023-07-03T16:59:55.454374Z",
     "iopub.status.idle": "2023-07-03T16:59:55.498232Z",
     "shell.execute_reply": "2023-07-03T16:59:55.497713Z",
     "shell.execute_reply.started": "2023-07-03T16:59:55.454848Z"
    }
   },
   "outputs": [],
   "source": [
    "playes = first_game['players']\n",
    "\n",
    "meni_color = my_color(playes)\n",
    "\n",
    "my_rating = first_game['players'][meni_color]['rating']\n",
    "opponent_rating = first_game['players'][flip_color(meni_color)]['rating']\n",
    "opponent = opponent_name(first_game['players'])\n",
    "\n",
    "time = first_game['createdAt']\n",
    "\n",
    "termination = first_game['status']\n",
    "\n",
    "winner = first_game['winner']\n",
    "did_i_win = winner == meni_color\n",
    "\n",
    "openning = first_game['opening']['name']\n",
    "\n",
    "moves = first_game['moves']\n",
    "game_length = len(moves.split(' '))\n",
    "\n",
    "my_accuracy = first_game['players'][meni_color]['analysis']['acpl']\n",
    "opponent_accuracy = first_game['players'][flip_color(meni_color)]['analysis']['acpl']"
   ]
  },
  {
   "cell_type": "code",
   "execution_count": 157,
   "id": "5d5b1b86-94ec-404a-b9e5-910cbc9b840b",
   "metadata": {
    "execution": {
     "iopub.execute_input": "2023-07-03T16:59:56.709450Z",
     "iopub.status.busy": "2023-07-03T16:59:56.708342Z",
     "iopub.status.idle": "2023-07-03T16:59:56.745814Z",
     "shell.execute_reply": "2023-07-03T16:59:56.745202Z",
     "shell.execute_reply.started": "2023-07-03T16:59:56.709396Z"
    }
   },
   "outputs": [],
   "source": [
    "new_row = pd.DataFrame([{\n",
    "        'time': time,\n",
    "        'opponent_name': opponent,\n",
    "        'my_rating': my_rating,\n",
    "        'my_color': meni_color,\n",
    "        'result': winner,\n",
    "        'did_I_win': did_i_win, \n",
    "        'termination_type': termination,\n",
    "        'length_of_game': game_length,\n",
    "        'my_average_centripawn_loss': my_accuracy,\n",
    "        'opponent_average_centripawn_loss': opponent_accuracy\n",
    "}])"
   ]
  },
  {
   "cell_type": "markdown",
   "id": "c063c83c-8e29-4e47-84e6-cfef4d006818",
   "metadata": {},
   "source": [
    "## And now we loop"
   ]
  },
  {
   "cell_type": "code",
   "execution_count": 159,
   "id": "dedf3ce0-dcb2-4111-9206-05d444641cc7",
   "metadata": {
    "execution": {
     "iopub.execute_input": "2023-07-03T17:08:17.019604Z",
     "iopub.status.busy": "2023-07-03T17:08:17.017830Z",
     "iopub.status.idle": "2023-07-03T17:08:17.100042Z",
     "shell.execute_reply": "2023-07-03T17:08:17.099587Z",
     "shell.execute_reply.started": "2023-07-03T17:08:17.019499Z"
    }
   },
   "outputs": [],
   "source": [
    "df = pd.DataFrame(\n",
    "    columns=['time', 'opponent_name', 'my_rating', 'my_color', \n",
    "             'result', 'termination_type', 'length_of_game', \n",
    "             'my_average_centripawn_loss', 'opponent_average_centripawn_loss', 'opening'])"
   ]
  },
  {
   "cell_type": "code",
   "execution_count": 164,
   "id": "3e4bef31-b822-4566-a23c-ace00201b7d4",
   "metadata": {
    "execution": {
     "iopub.execute_input": "2023-07-03T17:12:22.051272Z",
     "iopub.status.busy": "2023-07-03T17:12:22.049941Z",
     "iopub.status.idle": "2023-07-03T17:12:22.125661Z",
     "shell.execute_reply": "2023-07-03T17:12:22.125222Z",
     "shell.execute_reply.started": "2023-07-03T17:12:22.051212Z"
    }
   },
   "outputs": [
    {
     "name": "stderr",
     "output_type": "stream",
     "text": [
      "\n",
      "0it [00:00, ?it/s]\u001b[A\n"
     ]
    }
   ],
   "source": [
    "limit = 3\n",
    "\n",
    "for game in tqdm(games):\n",
    "    playes = game['players']\n",
    "\n",
    "    meni_color = my_color(playes)\n",
    "    my_rating = game['players'][meni_color]['rating']\n",
    "    opponent_rating = game['players'][flip_color(meni_color)]['rating']\n",
    "    opponent = opponent_name(game['players'])\n",
    "    \n",
    "    time = game['createdAt']\n",
    "    termination = game['status']\n",
    "    winner = game['winner']\n",
    "    did_i_win = winner == meni_color\n",
    "    openning = game['opening']['name']\n",
    "    moves = game['moves']\n",
    "    game_length = len(moves.split(' '))\n",
    "    my_accuracy = game['players'][meni_color]['analysis']['acpl']\n",
    "    opponent_accuracy = game['players'][flip_color(meni_color)]['analysis']['acpl']\n",
    "\n",
    "    new_row = pd.DataFrame([{\n",
    "            'time': time,\n",
    "            'opponent_name': opponent,\n",
    "            'my_rating': my_rating,\n",
    "            'my_color': meni_color,\n",
    "            'result': winner,\n",
    "            'did_I_win': did_i_win, \n",
    "            'termination_type': termination,\n",
    "            'length_of_game': game_length,\n",
    "            'my_average_centripawn_loss': my_accuracy,\n",
    "            'opponent_average_centripawn_loss': opponent_accuracy\n",
    "    }])\n",
    "\n",
    "    pd.concat([df, new_row])\n",
    "\n",
    "    i -= 1\n",
    "    if i == 0:\n",
    "        break"
   ]
  },
  {
   "cell_type": "code",
   "execution_count": null,
   "id": "dd117537-d808-4bdf-8dc9-1499147fb52e",
   "metadata": {},
   "outputs": [],
   "source": []
  },
  {
   "cell_type": "code",
   "execution_count": null,
   "id": "ab612def-d838-4434-94ae-ea26e59cbd47",
   "metadata": {},
   "outputs": [],
   "source": []
  }
 ],
 "metadata": {
  "kernelspec": {
   "display_name": "Python 3 (ipykernel)",
   "language": "python",
   "name": "python3"
  },
  "language_info": {
   "codemirror_mode": {
    "name": "ipython",
    "version": 3
   },
   "file_extension": ".py",
   "mimetype": "text/x-python",
   "name": "python",
   "nbconvert_exporter": "python",
   "pygments_lexer": "ipython3",
   "version": "3.10.10"
  }
 },
 "nbformat": 4,
 "nbformat_minor": 5
}
